{
 "cells": [
  {
   "cell_type": "code",
   "execution_count": 1,
   "metadata": {
    "collapsed": true
   },
   "outputs": [],
   "source": [
    "import matplotlib.pyplot as plt"
   ]
  },
  {
   "cell_type": "code",
   "execution_count": 2,
   "metadata": {},
   "outputs": [
    {
     "name": "stdout",
     "output_type": "stream",
     "text": [
      "/Users/miguel/Jottacloud/HedgingRL\n"
     ]
    }
   ],
   "source": [
    "cd .."
   ]
  },
  {
   "cell_type": "markdown",
   "metadata": {},
   "source": [
    "## Create environment"
   ]
  },
  {
   "cell_type": "code",
   "execution_count": 3,
   "metadata": {},
   "outputs": [
    {
     "name": "stderr",
     "output_type": "stream",
     "text": [
      "[2017-08-02 22:10:50,136] Making new env: obs-v2\n",
      "[2017-08-02 22:10:50,371] Clearing 2 monitor files from previous run (because force=True was provided)\n"
     ]
    }
   ],
   "source": [
    "import json\n",
    "from os import path\n",
    "import pandas as pd\n",
    "\n",
    "import gym.envs\n",
    "import numpy as np\n",
    "\n",
    "num_steps = 100\n",
    "gym.envs.register(id='obs-v2',\n",
    "                  entry_point='gym_bs.envs:EuropeanOptionEnv',\n",
    "                  kwargs={'t': num_steps,\n",
    "                          'n': 1,\n",
    "                          's0': 49,\n",
    "                          'k': 50,\n",
    "                          'max_stock': 1,\n",
    "                          'sigma': .1})\n",
    "\n",
    "params = dict(n_iter=10000, batch_size=50, elite_frac=0.3)\n",
    "\n",
    "env = gym.make('obs-v2')\n",
    "env = gym.wrappers.Monitor(env, \"/tmp/gym-results/obs-v2\", video_callable=False, write_upon_reset=True, force=True)\n",
    " "
   ]
  },
  {
   "cell_type": "code",
   "execution_count": 4,
   "metadata": {
    "collapsed": true
   },
   "outputs": [],
   "source": [
    "observation = env.reset()"
   ]
  },
  {
   "cell_type": "markdown",
   "metadata": {},
   "source": [
    "### Random action"
   ]
  },
  {
   "cell_type": "code",
   "execution_count": 5,
   "metadata": {},
   "outputs": [
    {
     "name": "stdout",
     "output_type": "stream",
     "text": [
      "CPU times: user 61.1 ms, sys: 6.48 ms, total: 67.5 ms\n",
      "Wall time: 66.7 ms\n"
     ]
    }
   ],
   "source": [
    "%%time\n",
    "df = pd.DataFrame.from_dict({'reward': [], 'observation': []})\n",
    "for _ in range(10):\n",
    "    observation = env.reset()\n",
    "    done = False\n",
    "    while not done:\n",
    "        action = env.action_space.sample()\n",
    "        observation, reward, done, info = env.step(action)\n",
    "    df = df.append( pd.DataFrame.from_dict({'reward': reward, 'observation': [observation]}))"
   ]
  },
  {
   "cell_type": "code",
   "execution_count": 6,
   "metadata": {
    "scrolled": true
   },
   "outputs": [
    {
     "data": {
      "text/plain": [
       "<matplotlib.axes._subplots.AxesSubplot at 0x11a1f3cf8>"
      ]
     },
     "execution_count": 6,
     "metadata": {},
     "output_type": "execute_result"
    },
    {
     "data": {
      "image/png": "[encoded data removed]",
      "text/plain": [
       "<matplotlib.figure.Figure at 0x115326d68>"
      ]
     },
     "metadata": {},
     "output_type": "display_data"
    }
   ],
   "source": [
    "%matplotlib inline\n",
    "df.reward.clip_lower(-15).hist(bins=100)"
   ]
  },
  {
   "cell_type": "markdown",
   "metadata": {},
   "source": [
    "### No action"
   ]
  },
  {
   "cell_type": "code",
   "execution_count": 7,
   "metadata": {},
   "outputs": [
    {
     "name": "stdout",
     "output_type": "stream",
     "text": [
      "CPU times: user 7.06 s, sys: 517 ms, total: 7.57 s\n",
      "Wall time: 7.6 s\n"
     ]
    }
   ],
   "source": [
    "%%time\n",
    "df = pd.DataFrame.from_dict({'reward': [], 'underlying': [], 'tau': [], 'stocks': []})\n",
    "action = np.array([0.])\n",
    "for _ in range(1000):\n",
    "    observation = env.reset()\n",
    "    done = False\n",
    "    while not done:\n",
    "#         action = env.action_space.sample()\n",
    "        observation, reward, done, info = env.step(action)\n",
    "    df = df.append( pd.DataFrame.from_dict({'reward': reward,\n",
    "                                            'underlying': observation[0],\n",
    "                                            'tau': observation[1],\n",
    "                                            'stocks': observation[2]}))"
   ]
  },
  {
   "cell_type": "code",
   "execution_count": 12,
   "metadata": {},
   "outputs": [
    {
     "data": {
      "text/plain": [
       "<matplotlib.axes._subplots.AxesSubplot at 0x11dca45f8>"
      ]
     },
     "execution_count": 12,
     "metadata": {},
     "output_type": "execute_result"
    },
    {
     "data": {
      "image/png": "[encoded data removed]",
      "text/plain": [
       "<matplotlib.figure.Figure at 0x11d9c1cf8>"
      ]
     },
     "metadata": {},
     "output_type": "display_data"
    }
   ],
   "source": [
    "%matplotlib inline\n",
    "df.reward.clip_lower(-1500).hist(bins=100)"
   ]
  },
  {
   "cell_type": "code",
   "execution_count": 11,
   "metadata": {},
   "outputs": [
    {
     "data": {
      "text/plain": [
       "<matplotlib.axes._subplots.AxesSubplot at 0x11d9f2908>"
      ]
     },
     "execution_count": 11,
     "metadata": {},
     "output_type": "execute_result"
    },
    {
     "data": {
      "image/png": "[encoded data removed]",
      "text/plain": [
       "<matplotlib.figure.Figure at 0x11d9c1d30>"
      ]
     },
     "metadata": {},
     "output_type": "display_data"
    }
   ],
   "source": [
    "%matplotlib inline\n",
    "# fig = plt.Figure()\n",
    "df.underlying.hist(bins=20, figsize=(10, 6))"
   ]
  },
  {
   "cell_type": "code",
   "execution_count": null,
   "metadata": {
    "collapsed": true
   },
   "outputs": [],
   "source": []
  },
  {
   "cell_type": "code",
   "execution_count": 10,
   "metadata": {},
   "outputs": [
    {
     "ename": "SyntaxError",
     "evalue": "invalid syntax (<ipython-input-10-cb69bf7ed326>, line 6)",
     "output_type": "error",
     "traceback": [
      "\u001b[0;36m  File \u001b[0;32m\"<ipython-input-10-cb69bf7ed326>\"\u001b[0;36m, line \u001b[0;32m6\u001b[0m\n\u001b[0;31m    df = df.append( pd.DataFrame.from_dict('reward': reward, 'observation': observation))\u001b[0m\n\u001b[0m                                                   ^\u001b[0m\n\u001b[0;31mSyntaxError\u001b[0m\u001b[0;31m:\u001b[0m invalid syntax\n"
     ]
    }
   ],
   "source": [
    "done = False\n",
    "df = pd.DataFrame.from_dict({'reward': [], 'observation': []})\n",
    "while not done:\n",
    "    action = env.action_space.sample()\n",
    "    observation, reward, done, info = env.step(action)\n",
    "    df = df.append( pd.DataFrame.from_dict('reward': reward, 'observation': observation))"
   ]
  },
  {
   "cell_type": "markdown",
   "metadata": {
    "collapsed": true
   },
   "source": [
    "## Different reward functions\n",
    "\n",
    "Black Scholes - three different reward functions\n",
    "\n",
    "- $r_T = U(V_T)$ where $U$ is a utility function\n",
    "\n",
    "- $r_T = - (V_T - E[V_0])^2$\n",
    "\n",
    "- $V_T$ with hedging costs and utility function as in first vase\n",
    "\n",
    "\n",
    "Portfolio:\n",
    "\n",
    "- 1 option\n",
    "- 0 cash\n",
    "- 0 stocks\n",
    "\n",
    "Variations:\n",
    "\n",
    "- can only hedge once / X times"
   ]
  },
  {
   "cell_type": "markdown",
   "metadata": {},
   "source": [
    "## Interesting\n",
    "\n",
    "\n",
    "how to learn the value function?"
   ]
  }
 ],
 "metadata": {
  "kernelspec": {
   "display_name": "Python 3",
   "language": "python",
   "name": "python3"
  },
  "language_info": {
   "codemirror_mode": {
    "name": "ipython",
    "version": 3
   },
   "file_extension": ".py",
   "mimetype": "text/x-python",
   "name": "python",
   "nbconvert_exporter": "python",
   "pygments_lexer": "ipython3",
   "version": "3.5.3"
  }
 },
 "nbformat": 4,
 "nbformat_minor": 2
}
