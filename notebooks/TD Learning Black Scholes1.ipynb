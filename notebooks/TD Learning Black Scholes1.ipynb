{
 "cells": [
  {
   "cell_type": "code",
   "execution_count": 3,
   "metadata": {
    "collapsed": true,
    "hidePrompt": true
   },
   "outputs": [],
   "source": [
    "import pandas as pd"
   ]
  },
  {
   "cell_type": "code",
   "execution_count": 2,
   "metadata": {
    "collapsed": true
   },
   "outputs": [],
   "source": [
    "import numpy as np\n",
    "import scipy as sp\n",
    "import matplotlib.pyplot as plt\n",
    "import seaborn as sns\n",
    "from pandas_datareader import data\n",
    "from datetime import datetime"
   ]
  },
  {
   "cell_type": "markdown",
   "metadata": {
    "collapsed": true
   },
   "source": [
    "## Plan"
   ]
  },
  {
   "cell_type": "markdown",
   "metadata": {},
   "source": [
    "- Some data: look at some stock price series\n",
    "- devise a model for stock price series: Geometric Brownian Motion (GBM)\n",
    "- Example for a contingent claim: call option\n",
    "- Pricing of a call option under the assumtpion of GBM\n",
    "- Challenges"
   ]
  },
  {
   "cell_type": "markdown",
   "metadata": {},
   "source": [
    "## Some data: look at some stock price series"
   ]
  },
  {
   "cell_type": "markdown",
   "metadata": {},
   "source": [
    "We import data from Yahoo finance: two examples are IBM and Apple"
   ]
  },
  {
   "cell_type": "code",
   "execution_count": 1,
   "metadata": {
    "hidePrompt": true
   },
   "outputs": [
    {
     "ename": "NameError",
     "evalue": "name 'data' is not defined",
     "output_type": "error",
     "traceback": [
      "\u001b[0;31m---------------------------------------------------------------------------\u001b[0m",
      "\u001b[0;31mNameError\u001b[0m                                 Traceback (most recent call last)",
      "\u001b[0;32m<ipython-input-1-6437e0b6d86d>\u001b[0m in \u001b[0;36m<module>\u001b[0;34m()\u001b[0m\n\u001b[0;32m----> 1\u001b[0;31m \u001b[0maapl\u001b[0m \u001b[0;34m=\u001b[0m \u001b[0mdata\u001b[0m\u001b[0;34m.\u001b[0m\u001b[0mDataReader\u001b[0m\u001b[0;34m(\u001b[0m\u001b[0;34m'AAPL'\u001b[0m\u001b[0;34m,\u001b[0m \u001b[0;34m'yahoo'\u001b[0m\u001b[0;34m,\u001b[0m \u001b[0;34m'2000-01-01'\u001b[0m\u001b[0;34m)\u001b[0m\u001b[0;34m\u001b[0m\u001b[0m\n\u001b[0m\u001b[1;32m      2\u001b[0m \u001b[0mprint\u001b[0m\u001b[0;34m(\u001b[0m\u001b[0maapl\u001b[0m\u001b[0;34m.\u001b[0m\u001b[0mhead\u001b[0m\u001b[0;34m(\u001b[0m\u001b[0;34m)\u001b[0m\u001b[0;34m)\u001b[0m\u001b[0;34m\u001b[0m\u001b[0m\n",
      "\u001b[0;31mNameError\u001b[0m: name 'data' is not defined"
     ]
    }
   ],
   "source": [
    "aapl = data.DataReader('AAPL', 'yahoo', '2000-01-01')\n",
    "print(aapl.head())"
   ]
  },
  {
   "cell_type": "markdown",
   "metadata": {},
   "source": [
    "$\\Rightarrow$ various different price series"
   ]
  },
  {
   "cell_type": "code",
   "execution_count": 6,
   "metadata": {},
   "outputs": [
    {
     "data": {
      "text/plain": [
       "[<matplotlib.lines.Line2D at 0xa9eae80>]"
      ]
     },
     "execution_count": 6,
     "metadata": {},
     "output_type": "execute_result"
    }
   ],
   "source": [
    "plt.plot(aapl.Close)"
   ]
  },
  {
   "cell_type": "markdown",
   "metadata": {},
   "source": [
    "$\\Longrightarrow$ There was a stock split 7:1 on 06/09/2014.\n",
    "As we do not want to take care of things like that, we use the Adjusted close price!"
   ]
  },
  {
   "cell_type": "code",
   "execution_count": 7,
   "metadata": {},
   "outputs": [
    {
     "name": "stdout",
     "output_type": "stream",
     "text": [
      "Date\n",
      "2000-01-03    3.625643\n",
      "2000-01-04    3.319964\n",
      "2000-01-05    3.368548\n",
      "2000-01-06    3.077039\n",
      "2000-01-07    3.222794\n",
      "Name: Adj Close, dtype: float64\n"
     ]
    },
    {
     "data": {
      "text/plain": [
       "<matplotlib.text.Text at 0x10fafef98>"
      ]
     },
     "execution_count": 7,
     "metadata": {},
     "output_type": "execute_result"
    },
    {
     "data": {
      "image/png": "[encoded data removed]",
      "text/plain": [
       "<matplotlib.figure.Figure at 0x11adb4828>"
      ]
     },
     "metadata": {},
     "output_type": "display_data"
    }
   ],
   "source": [
    "ibm = data.DataReader('AAPl', 'yahoo', '2000-1-1')\n",
    "\n",
    "print(ibm['Adj Close'].head())\n",
    "%matplotlib inline\n",
    "ibm['Adj Close'].plot(figsize=(10,6))\n",
    "plt.ylabel('price')\n",
    "plt.xlabel('year')\n",
    "plt.title('Price history of IBM stock')\n",
    "\n"
   ]
  },
  {
   "cell_type": "code",
   "execution_count": 6,
   "metadata": {},
   "outputs": [
    {
     "name": "stdout",
     "output_type": "stream",
     "text": [
      "Date\n",
      "2000-01-03    87.761136\n",
      "2000-01-04    84.782175\n",
      "2000-01-05    87.761136\n",
      "2000-01-06    86.248013\n",
      "2000-01-07    85.869732\n",
      "Name: Adj Close, dtype: float64\n"
     ]
    },
    {
     "data": {
      "text/plain": [
       "<matplotlib.text.Text at 0x11c39b320>"
      ]
     },
     "execution_count": 6,
     "metadata": {},
     "output_type": "execute_result"
    },
    {
     "data": {
      "image/png": "[encoded data removed]",
      "text/plain": [
       "<matplotlib.figure.Figure at 0x11ad6e908>"
      ]
     },
     "metadata": {},
     "output_type": "display_data"
    }
   ],
   "source": [
    "ibm = data.DataReader('IBM', 'yahoo', '2000-1-1')\n",
    "\n",
    "print(ibm['Adj Close'].head())\n",
    "%matplotlib inline\n",
    "ibm['Adj Close'].plot(figsize=(10,6))\n",
    "plt.ylabel('price')\n",
    "plt.xlabel('year')\n",
    "plt.title('Price history of IBM stock')\n"
   ]
  },
  {
   "cell_type": "markdown",
   "metadata": {},
   "source": [
    "## Define new financial instruments"
   ]
  },
  {
   "cell_type": "markdown",
   "metadata": {},
   "source": [
    "What we have now prices of financial instruments:\n",
    "    - bonds (assume: fixed price)\n",
    "    - stocks\n",
    "    - exchange rates\n",
    "    - oil\n",
    "    - dots\n",
    "$\\Longrightarrow$ Tradeables with variable prices\n",
    "    \n",
    "We can form a portfolio by \n",
    "    - holding some cash (possibly less than 0, that's called debts)\n",
    "    - buying some stock/currency etc. (perhaps less than 0, that's called 'short)"
   ]
  },
  {
   "cell_type": "markdown",
   "metadata": {},
   "source": [
    "## Why do we need more ?"
   ]
  },
  {
   "cell_type": "markdown",
   "metadata": {},
   "source": [
    "- you want to play\n",
    "- you are producing something and you want to assure, that the prices you achieve in one year are suffiientlyone a stock, and arewant to protect yourself against lower prices\n",
    "- you want to protect yourself against higher prices\n",
    "- you want to protect yourself against an increase in volatility\n",
    "- you want to protect yourself against extreme price movements \n",
    "- you want to ...\n",
    "\n",
    "$\\Longrightarrow$ Essentially you want to be able to control the final value of your portfolio!"
   ]
  },
  {
   "cell_type": "markdown",
   "metadata": {},
   "source": [
    "You go the bank, the bank offers you some product, you buy and are happy ....°"
   ]
  },
  {
   "cell_type": "markdown",
   "metadata": {},
   "source": [
    "### Obligations for the bank"
   ]
  },
  {
   "cell_type": "markdown",
   "metadata": {},
   "source": [
    "- construct a product\n",
    "- price the product\n",
    "- hedge the product"
   ]
  },
  {
   "cell_type": "markdown",
   "metadata": {},
   "source": [
    "For this talk, we take one of the easiest such products:, a call option."
   ]
  },
  {
   "cell_type": "markdown",
   "metadata": {},
   "source": [
    "## Call option"
   ]
  },
  {
   "cell_type": "markdown",
   "metadata": {},
   "source": [
    "### Definition\n",
    "Call option on a stock $S$ with strike price $K$ and expiry $T$: \n",
    "\n",
    "The buyer of the call option has the right, but not the obligation, to buy $1$ stock $S$  (the underlying) from the seller of the option at a certain time (the expiration date $T$) for a certain price (the strike price $K$).\n",
    "\n",
    "Payoff: $$C_T =\\max(0, S-K)\\,.$$\n"
   ]
  },
  {
   "cell_type": "markdown",
   "metadata": {},
   "source": [
    "### What can you do with a Call-option?\n",
    "\n",
    "Example: you want to buy a stock next year, 01.01.2018, for 100:\n",
    "Buy now a call for 100 (strike price).\n",
    "\n",
    "Next year you can distinguish two distinct cases:\n",
    "\n",
    "- stock trades at 80 < 100 $\\Longrightarrow$  buy stock for 80 Euro, forget call option - it call is worthless\n",
    "- stock trades at 120 > 100 $\\Longrightarrow$ use call to buy stock for 100\n"
   ]
  },
  {
   "cell_type": "markdown",
   "metadata": {},
   "source": [
    "### How to price the call option?\n",
    "\n",
    "- match expectations\n",
    "- utility pricing\n",
    "- arbitrage free pricing $\\Longrightarrow$ this is the price, enforced by the market\n",
    "- ..."
   ]
  },
  {
   "cell_type": "markdown",
   "metadata": {},
   "source": [
    "What is a fair price for an option with strike price $K$ and expiry $T$?\n",
    "If the stock trades at a price $S$ at time $T$, then the payoff is: \n",
    "\n",
    "Payoff: $C_T =\\max(0, S-K)\\,.$\n",
    "\n",
    "If the interest rate is $r$, we discount future cashflows with $e^{- r T}$. Thus if the stock traded at price $S$ at expire, the resulting cash-flow would be worth(time $t = 0$)\n",
    "$$C_0 = e^{- r T} \\max(0, S-K)\\,.$$\n",
    "\n",
    "Problem: we do not know $S_T$ at time $0$.\n",
    "\n",
    "Solution: we take the expectation of $S$. This yields\n",
    "\n",
    "$$C_{0, S} = e^{- r T} \\mathbb{E}\\left[ \\max(0, S-K)\\right]\\,.$$"
   ]
  },
  {
   "cell_type": "markdown",
   "metadata": {},
   "source": [
    "Caveat: We have hidden a lot!!\n",
    "The formal deduction is complicated via arbitrage free pricing and the Feynmann-Kac-theorem"
   ]
  },
  {
   "cell_type": "markdown",
   "metadata": {},
   "source": [
    "How to constructthe expectation? Need a model for the stock price!"
   ]
  },
  {
   "cell_type": "markdown",
   "metadata": {},
   "source": [
    "## Construct a theoretical model for stock price movements: Geometric Brownian motion"
   ]
  },
  {
   "cell_type": "markdown",
   "metadata": {},
   "source": [
    "For the apple chart one can see, that price increments seem to correlate with the price: thus we plot logarithmic prices:\n",
    "\n",
    "Let us plot the data logarithmically:"
   ]
  },
  {
   "cell_type": "code",
   "execution_count": 9,
   "metadata": {},
   "outputs": [
    {
     "data": {
      "text/plain": [
       "<matplotlib.text.Text at 0xbfdd828>"
      ]
     },
     "execution_count": 9,
     "metadata": {},
     "output_type": "execute_result"
    },
    {
     "data": {
      "image/png": "[encoded data removed]",
      "text/plain": [
       "<matplotlib.figure.Figure at 0xbf83f28>"
      ]
     },
     "metadata": {},
     "output_type": "display_data"
    }
   ],
   "source": [
    "Log_Data = plt.figure()\n",
    "%matplotlib inline\n",
    "plt.plot(np.log(aapl['Adj Close']))\n",
    "plt.ylabel('logarithmic price')\n",
    "plt.xlabel('year')\n",
    "plt.title('Logarithmic price history of Apple stock')"
   ]
  },
  {
   "cell_type": "markdown",
   "metadata": {},
   "source": [
    "Now the roughness of the chart looks more even $\\Rightarrow$ We should model increments proportional to the stock price!"
   ]
  },
  {
   "cell_type": "markdown",
   "metadata": {},
   "source": [
    "This leads us to some assumptions for the stock price process: \n",
    "- the distribution of relative changes is constant over time\n",
    "- Small changes appear often, large changes rarly: changes are normally distributed\n",
    "\n",
    " $\\Rightarrow$ use an exponential Gaussian distribution for increments:\n",
    " $$S_{n+1} = S_n e^{\\sigma X+ \\mu} $$\n",
    " where $X \\sim N(0,1)$, $\\sigma$ denotes the variance and $\\mu$ the mean growth rate."
   ]
  },
  {
   "cell_type": "markdown",
   "metadata": {},
   "source": [
    "Let us simulate this: \n",
    "typical values for $\\mu$ and $\\sigma$ per year are:\n",
    "- $\\mu_y= 0,08$\n",
    "- $\\sigma_y = 0.2$\n",
    "\n",
    "$\\Rightarrow$ assuming 252 business days a year we get\n",
    "$$\\mu = \\mu_d = \\frac{\\mu_y}{252}\\sim 0.0003$$\n",
    "$$\\sigma = \\sigma_d = \\frac{\\sigma_y}{\\sqrt{252}}\\sim 0,012$$"
   ]
  },
  {
   "cell_type": "code",
   "execution_count": 10,
   "metadata": {
    "collapsed": true
   },
   "outputs": [],
   "source": [
    "S0 = 1\n",
    "sigma = 0.2/np.sqrt(252)\n",
    "mu = 0.08/252"
   ]
  },
  {
   "cell_type": "code",
   "execution_count": 11,
   "metadata": {},
   "outputs": [
    {
     "data": {
      "image/png": "[encoded data removed]",
      "text/plain": [
       "<matplotlib.figure.Figure at 0xc028240>"
      ]
     },
     "metadata": {},
     "output_type": "display_data"
    }
   ],
   "source": [
    "%matplotlib inline\n",
    "for i in range(0, 5):\n",
    "    r = np.random.randn((1000))\n",
    "    plt.plot(S0 * np.cumprod(np.exp(sigma *r +mu)))"
   ]
  },
  {
   "cell_type": "code",
   "execution_count": 12,
   "metadata": {
    "collapsed": true
   },
   "outputs": [],
   "source": [
    "S0 = 1.5                    # start price\n",
    "K = 1.0                     # strike price\n",
    "mu = 0                      # average growth\n",
    "sigma = 0.2/np.sqrt(252)    # volatility\n",
    "N = 10000                   # runs\n",
    "M = 252*4                   # length of each run (252 business days per year times 4 years)"
   ]
  },
  {
   "cell_type": "code",
   "execution_count": 13,
   "metadata": {
    "collapsed": true
   },
   "outputs": [],
   "source": [
    "def call_price(S, K):\n",
    "    return max(0.0, S-K)"
   ]
  },
  {
   "cell_type": "code",
   "execution_count": null,
   "metadata": {
    "collapsed": true
   },
   "outputs": [],
   "source": [
    "def MC_call_price(S0, K, mu, sigma, N, M):\n",
    "    CSum = 0\n",
    "    SSum = 0\n",
    "    for n in range(N):\n",
    "        r = np.random.randn((M))\n",
    "        S =  S0 * np.cumprod(np.exp(sigma *r))\n",
    "        SSum += S\n",
    "        CSum += call_price(S[M-1], K)\n",
    "    return CSum/N\n"
   ]
  },
  {
   "cell_type": "markdown",
   "metadata": {},
   "source": [
    "### Optionprices:"
   ]
  },
  {
   "cell_type": "code",
   "execution_count": null,
   "metadata": {
    "collapsed": true
   },
   "outputs": [],
   "source": [
    "S0 = np.linspace(0.0, 2.0,21)\n",
    "C = []\n",
    "for k in range(21):\n",
    "    C.append(MC_call_price(k*2/20, K, mu, sigma, N, M))\n",
    "C"
   ]
  },
  {
   "cell_type": "code",
   "execution_count": null,
   "metadata": {
    "collapsed": true
   },
   "outputs": [],
   "source": [
    "plt.plot(S0, C)\n",
    "plt.ylabel('Call price')\n",
    "plt.xlabel('Start price')\n",
    "plt.title('Call price')\n",
    "plt.show()"
   ]
  },
  {
   "cell_type": "markdown",
   "metadata": {},
   "source": [
    "This curve can also be calculated theoretically. Using stochastic calculus, one can deduce the famous Black-Scholes equation, to calculate this curve. We will not go into detail ..."
   ]
  },
  {
   "cell_type": "code",
   "execution_count": null,
   "metadata": {
    "collapsed": true
   },
   "outputs": [],
   "source": [
    "from IPython.display import Image\n",
    "Image(\"Picture_Then_Miracle_Occurs.PNG\")"
   ]
  },
  {
   "cell_type": "markdown",
   "metadata": {},
   "source": [
    "... but will just state the final result!"
   ]
  },
  {
   "cell_type": "markdown",
   "metadata": {
    "slideshow": {
     "slide_type": "slide"
    }
   },
   "source": [
    "## Black Scholes formula:"
   ]
  },
  {
   "cell_type": "markdown",
   "metadata": {},
   "source": [
    "$${\\displaystyle d_{1}={\\frac {1}{\\sigma {\\sqrt {T-t}}}}\\left[\\ln \\left({\\frac {S_{t}}{K}}\\right)+(r-q+{\\frac {1}{2}}\\sigma ^{2})(T-t)\\right]}$$"
   ]
  },
  {
   "cell_type": "markdown",
   "metadata": {},
   "source": [
    "$${\\displaystyle d_{2}=d_{1}-\\sigma {\\sqrt {T-t}}={\\frac {1}{\\sigma {\\sqrt {T-t}}}}\\left[\\ln \\left({\\frac {S_{t}}{K}}\\right)+(r-q-{\\frac {1}{2}}\\sigma ^{2})(T-t)\\right]}$$"
   ]
  },
  {
   "cell_type": "markdown",
   "metadata": {},
   "source": [
    "Black-Scholes Formula for the call price:"
   ]
  },
  {
   "cell_type": "markdown",
   "metadata": {},
   "source": [
    "$${\\displaystyle C(S_{t},t)=e^{-r(T-t)}[S_tN(d_{1})-KN(d_{2})]\\,}$$"
   ]
  },
  {
   "cell_type": "markdown",
   "metadata": {},
   "source": [
    "$\\Delta$ describes the change in the price of the option if the stock price changes by $1$.\n",
    "\n",
    "Black Scholes formula for the Delta:"
   ]
  },
  {
   "cell_type": "markdown",
   "metadata": {},
   "source": [
    "$$ \\Delta(C, t) = e^{-r(T-t)} N(d_1)$$"
   ]
  },
  {
   "cell_type": "code",
   "execution_count": null,
   "metadata": {
    "collapsed": true
   },
   "outputs": [],
   "source": [
    "d_1 = lambda σ, T, t, S, K: 1. / σ / np.sqrt(T - t) * (np.log(S / K) + 0.5 * (σ ** 2) * (T-t))\n",
    "d_2 = lambda σ, T, t, S, K: 1. / σ / np.sqrt(T - t) * (np.log(S / K) - 0.5 * (σ ** 2) * (T-t))\n",
    "\n",
    "call = lambda σ, T, t, S, K: S * sp.stats.norm.cdf( d_1(σ, T, t, S, K) ) - K * sp.stats.norm.cdf( d_2(σ, T, t, S, K) )\n",
    "Delta = lambda σ, T, t, S, K: sp.stats.norm.cdf( d_1(σ, T, t, S, K) )"
   ]
  },
  {
   "cell_type": "code",
   "execution_count": null,
   "metadata": {
    "collapsed": true
   },
   "outputs": [],
   "source": [
    "plt.plot(np.linspace(sigma, 4., 100), call(1., 1., .9, np.linspace(0.1, 4., 100), 1.))"
   ]
  },
  {
   "cell_type": "code",
   "execution_count": null,
   "metadata": {
    "collapsed": true
   },
   "outputs": [],
   "source": [
    "plt.plot(d_1(1., 1., 0., np.linspace(0.1, 2.9, 10), 1))"
   ]
  },
  {
   "cell_type": "code",
   "execution_count": null,
   "metadata": {
    "collapsed": true
   },
   "outputs": [],
   "source": [
    "#plt.plot(np.linspace(sigma, 4., 100), Delta(1., 1.,  .9, np.linspace(0.1,   4., 100), 1.))\n",
    "plt.plot(np.linspace(sigma, 1.9, 100), Delta(1., 1., 0.2, np.linspace(0.01, 1.9, 100), 1.))\n",
    "plt.plot(np.linspace(sigma, 1.9, 100), Delta(1., 1., 0.6, np.linspace(0.01, 1.9, 100), 1.))\n",
    "plt.plot(np.linspace(sigma, 1.9, 100), Delta(1., 1., 0.9, np.linspace(0.01, 1.9, 100), 1.))\n",
    "plt.plot(np.linspace(sigma, 1.9, 100), Delta(1., 1., 0.99, np.linspace(0.01, 1.9, 100), 1.))\n",
    "plt.plot(np.linspace(sigma, 1.9, 100), Delta(1., 1., 0.9999, np.linspace(0.01, 1.9, 100), 1.))\n",
    "plt.xlabel(\"Price/strike price\")\n",
    "plt.ylabel(\"$\\Delta$\")\n",
    "plt.legend(['t = 0.2','t = 0.6', 't = 0.9', 't = 0.99', 't = 0.9999'], loc  = 2)"
   ]
  },
  {
   "cell_type": "markdown",
   "metadata": {},
   "source": [
    "For small prices we do not need to own shares, to hedge the option. For high prices we need exactly one share. The interesting area is around the strike price."
   ]
  },
  {
   "cell_type": "markdown",
   "metadata": {},
   "source": [
    "Simulate a portfolio consisting of 1 call option and $-\\Delta$ Shares:\n",
    "$$P = C - \\Delta S$$\n",
    "In approximation, the portfolio value should be constant!"
   ]
  },
  {
   "cell_type": "code",
   "execution_count": null,
   "metadata": {
    "collapsed": true
   },
   "outputs": [],
   "source": [
    "N = 10 #runs"
   ]
  },
  {
   "cell_type": "code",
   "execution_count": null,
   "metadata": {
    "collapsed": true
   },
   "outputs": [],
   "source": [
    "def Simulate_Price_Series(S0, sigma, N, M):\n",
    "    for n in (1,N):\n",
    "        r = np.random.randn((M))\n",
    "        S =  S0 * np.cumprod(np.exp(sigma *r))\n",
    "     \n",
    "        for m in (1,M):\n",
    "            P.append = Delta(sigma, M, m, S, K)*\n",
    "            \n",
    "    return S"
   ]
  },
  {
   "cell_type": "code",
   "execution_count": null,
   "metadata": {
    "collapsed": true
   },
   "outputs": [],
   "source": [
    "plt.plot(1+np.cumsum(np.diff(S) * Delta(sigma, 4, 0, S, K)[1, M-1]))\n",
    "plt.plot(S)"
   ]
  },
  {
   "cell_type": "code",
   "execution_count": null,
   "metadata": {
    "collapsed": true
   },
   "outputs": [],
   "source": [
    "S\n"
   ]
  },
  {
   "cell_type": "code",
   "execution_count": null,
   "metadata": {
    "collapsed": true
   },
   "outputs": [],
   "source": [
    "len(Delta(sigma, 4, 0, S, K)[[1:999]])\n"
   ]
  },
  {
   "cell_type": "code",
   "execution_count": null,
   "metadata": {
    "collapsed": true
   },
   "outputs": [],
   "source": [
    "def Calculate_Portfolio(S0, K, mu, sigma, N, M):\n",
    "    S = Simulate_Price_Series(S0, sigma, N, M)\n",
    "    StockDelta = Delta(sigma, 4, 0, S, K) )\n",
    "    vol = vol0 * np.cumprod(np.exp(sigma*r2)\n",
    "    S =  S0 * np.cumprod(np.exp(vol * r))\n",
    "    SSum += S\n",
    "    CSum += call_price(S[M-1], K)"
   ]
  },
  {
   "cell_type": "markdown",
   "metadata": {},
   "source": [
    "## Challenges"
   ]
  },
  {
   "cell_type": "markdown",
   "metadata": {},
   "source": [
    "- 1) the price depends on the calibration of $\\sigma$! Parameters may not be constant over time!\n",
    "- 2) the price depends on the validity of the model\n",
    "\n",
    "The main problem is the second one:"
   ]
  },
  {
   "cell_type": "markdown",
   "metadata": {},
   "source": [
    "A)  \n",
    "$\\sigma$ and $\\mu$ may change over time. Hence changes of volatility should adapted in the price\n",
    "$\\Longrightarrow$ new more complex models describing stochastic volatility are introduced, for example: \n",
    "- Heston model, \n",
    "- Ball-Roma model, \n",
    "- SABR-model and many more"
   ]
  },
  {
   "cell_type": "markdown",
   "metadata": {},
   "source": [
    "B)\n",
    "let us look at the log-returns:"
   ]
  },
  {
   "cell_type": "code",
   "execution_count": null,
   "metadata": {
    "collapsed": true
   },
   "outputs": [],
   "source": [
    "np.histogram(np.diff(aapl['Adj Close']))\n",
    "\n",
    "plt.hist(np.diff(aapl['Adj Close']), bins='auto')  # plt.hist passes it's arguments to np.histogram\n",
    "plt.title(\"Histogram of daily returns for Apple\")\n",
    "plt.show()"
   ]
  },
  {
   "cell_type": "markdown",
   "metadata": {},
   "source": [
    "This is not a normal distribution!"
   ]
  },
  {
   "cell_type": "markdown",
   "metadata": {},
   "source": [
    "2) normally distributed increments are not realistic. Real distributions are\n",
    "- Heavy tails:\n",
    "- Gain/Loss asymmetry \n",
    "- Aggregational Gaussianity\n",
    "- Intermittency (parameter changes over time)\n",
    "- Volatility clustering\n",
    "- Leverage effect\n",
    "- Volume/volatility correlation:\n",
    "- Slow decay of autocorrelation in absolute returns:\n",
    "- Asymmetry in time scales\n",
    "\n",
    "(see for example: Rama Cont: Empirical properties of asset returns: stylized facts and statistical issues, Journal of quantitative finance, Volume 1 (2001) 223–236)\n"
   ]
  },
  {
   "cell_type": "code",
   "execution_count": null,
   "metadata": {
    "collapsed": true
   },
   "outputs": [],
   "source": []
  },
  {
   "cell_type": "markdown",
   "metadata": {},
   "source": [
    "The option price depends on the model, on the calibration."
   ]
  },
  {
   "cell_type": "markdown",
   "metadata": {},
   "source": [
    "## Alternative model: Local volatility model"
   ]
  },
  {
   "cell_type": "markdown",
   "metadata": {},
   "source": [
    "The closest alternative to the Black-Scholes model are local volatility models."
   ]
  },
  {
   "cell_type": "code",
   "execution_count": null,
   "metadata": {
    "collapsed": true
   },
   "outputs": [],
   "source": [
    "def MC_call_price_Loc_Vol(S0, K, mu, sigma, N, M):\n",
    "    CSum = 0\n",
    "    SSum = 0\n",
    "    for n in range(N):\n",
    "        r = np.random.randn((M))\n",
    "        r2 = np.random.randn((M))\n",
    "        vol = vol0 * np.cumprod(np.exp(sigma*r2)\n",
    "        S =  S0 * np.cumprod(np.exp(vol * r))\n",
    "        SSum += S\n",
    "        CSum += call_price(S[M-1], K)\n",
    "    return CSum/N"
   ]
  },
  {
   "cell_type": "code",
   "execution_count": null,
   "metadata": {
    "collapsed": true
   },
   "outputs": [],
   "source": [
    "S0 = np.linspace(0.0, 2.0,21)\n",
    "CLoc = []\n",
    "for k in range(21):\n",
    "    CLoc.append(MC_call_price_Loc_Vol(k*2/20, K, mu, 0.1*sigma, N, M))\n",
    "  "
   ]
  },
  {
   "cell_type": "code",
   "execution_count": null,
   "metadata": {
    "collapsed": true
   },
   "outputs": [],
   "source": [
    "CLoc"
   ]
  },
  {
   "cell_type": "code",
   "execution_count": null,
   "metadata": {
    "collapsed": true
   },
   "outputs": [],
   "source": [
    "plt.plot(S0, C)\n",
    "plt.plot(S0, CLoc)\n",
    "plt.ylabel('Call price')\n",
    "plt.xlabel('Start price')\n",
    "plt.title('Call price')\n",
    "plt.show()"
   ]
  },
  {
   "cell_type": "markdown",
   "metadata": {},
   "source": [
    "## Proposed solution"
   ]
  },
  {
   "cell_type": "markdown",
   "metadata": {},
   "source": [
    "Find a way to price an option without the assumption of a market model, without the need to calibrate and recalibrate the model."
   ]
  },
  {
   "cell_type": "code",
   "execution_count": null,
   "metadata": {
    "collapsed": true
   },
   "outputs": [],
   "source": [
    "def iterate_series(n=1000, S0 = 1):\n",
    "    while True:\n",
    "        r = np.random.randn((n))\n",
    "        S = np.cumsum(r) + S0\n",
    "        yield S, r"
   ]
  },
  {
   "cell_type": "code",
   "execution_count": null,
   "metadata": {
    "collapsed": true
   },
   "outputs": [],
   "source": [
    "for (s, r) in iterate_series():\n",
    "    t, t_0 = 0, 0\n",
    "    for t in np.linspace(0, len(s)-1, 100):\n",
    "        r = s[int(t)] / s[int(t_0)]\n",
    "        t_0 = t\n",
    "    break"
   ]
  },
  {
   "cell_type": "code",
   "execution_count": null,
   "metadata": {
    "collapsed": true
   },
   "outputs": [],
   "source": [
    "state = (stock_val, besitz)"
   ]
  },
  {
   "cell_type": "code",
   "execution_count": null,
   "metadata": {
    "collapsed": true
   },
   "outputs": [],
   "source": []
  },
  {
   "cell_type": "markdown",
   "metadata": {},
   "source": []
  },
  {
   "cell_type": "markdown",
   "metadata": {},
   "source": []
  },
  {
   "cell_type": "code",
   "execution_count": null,
   "metadata": {
    "collapsed": true
   },
   "outputs": [],
   "source": []
  }
 ],
 "metadata": {
  "anaconda-cloud": {},
  "celltoolbar": "Hide code",
  "kernelspec": {
   "display_name": "Python [default]",
   "language": "python",
   "name": "python3"
  },
  "language_info": {
   "codemirror_mode": {
    "name": "ipython",
    "version": 3
   },
   "file_extension": ".py",
   "mimetype": "text/x-python",
   "name": "python",
   "nbconvert_exporter": "python",
   "pygments_lexer": "ipython3",
   "version": "3.5.3"
  }
 },
 "nbformat": 4,
 "nbformat_minor": 2
}
