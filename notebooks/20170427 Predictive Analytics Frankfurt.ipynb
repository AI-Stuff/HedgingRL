{
 "cells": [
  {
   "cell_type": "markdown",
   "metadata": {
    "slideshow": {
     "slide_type": "slide"
    }
   },
   "source": [
    "### Hedging with Reinforcement Learning"
   ]
  },
  {
   "cell_type": "markdown",
   "metadata": {
    "slideshow": {
     "slide_type": "slide"
    }
   },
   "source": [
    "### Bellmann Equation"
   ]
  },
  {
   "cell_type": "markdown",
   "metadata": {},
   "source": [
    "The equation for the optimal policy is referred to as the Bellman optimality equation:\n",
    "\n",
    "$$V^{*}(s)=\\max _{a}\\left{{R(s,a)+\\gamma \\sum _{s'}P(s'|s,a)V^{*}(s')}\\right}.$$\n",
    "It describes the reward for taking the action giving the highest expected return."
   ]
  },
  {
   "cell_type": "markdown",
   "metadata": {
    "slideshow": {
     "slide_type": "slide"
    }
   },
   "source": [
    "### Q-Learning"
   ]
  },
  {
   "cell_type": "markdown",
   "metadata": {},
   "source": [
    "$$\n",
    "{\\displaystyle Q(s_{t},a_{t})\\leftarrow \\underbrace {Q(s_{t},a_{t})} _{\\rm {old~value}}+\\underbrace {\\alpha _{t}} _{\\rm {learning~rate}}\\cdot \\left(\\overbrace {\\underbrace {r_{t+1}} _{\\rm {reward}}+\\underbrace {\\gamma } _{\\rm {discount~factor}}\\cdot \\underbrace {\\max _{a}Q(s_{t+1},a)} _{\\rm {estimate~of~optimal~future~value}}} ^{\\rm {learned~value}}-\\underbrace {Q(s_{t},a_{t})} _{\\rm {old~value}}\\right)}\n",
    "$$"
   ]
  }
 ],
 "metadata": {
  "celltoolbar": "Slideshow",
  "kernelspec": {
   "display_name": "Python [default]",
   "language": "python",
   "name": "python3"
  },
  "language_info": {
   "codemirror_mode": {
    "name": "ipython",
    "version": 3
   },
   "file_extension": ".py",
   "mimetype": "text/x-python",
   "name": "python",
   "nbconvert_exporter": "python",
   "pygments_lexer": "ipython3",
   "version": "3.5.3"
  }
 },
 "nbformat": 4,
 "nbformat_minor": 2
}
