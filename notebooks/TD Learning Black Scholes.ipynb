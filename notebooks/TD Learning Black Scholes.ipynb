{
 "cells": [
  {
   "cell_type": "code",
   "execution_count": 36,
   "metadata": {},
   "outputs": [
    {
     "name": "stdout",
     "output_type": "stream",
     "text": [
      "The autoreload extension is already loaded. To reload it, use:\n",
      "  %reload_ext autoreload\n"
     ]
    }
   ],
   "source": [
    "%load_ext autoreload\n",
    "%autoreload 2"
   ]
  },
  {
   "cell_type": "code",
   "execution_count": null,
   "metadata": {
    "collapsed": true
   },
   "outputs": [],
   "source": [
    "import pandas as pd"
   ]
  },
  {
   "cell_type": "code",
   "execution_count": 2,
   "metadata": {
    "collapsed": true
   },
   "outputs": [],
   "source": [
    "import numpy as np\n",
    "import matplotlib.pyplot as plt\n",
    "import seaborn as sns"
   ]
  },
  {
   "cell_type": "code",
   "execution_count": 4,
   "metadata": {
    "collapsed": true
   },
   "outputs": [],
   "source": [
    "r = np.random.randn((1000))\n",
    "S0 = 1\n",
    "S = np.cumsum(r) + S0"
   ]
  },
  {
   "cell_type": "code",
   "execution_count": 22,
   "metadata": {},
   "outputs": [
    {
     "data": {
      "image/png": "[encoded data removed]",
      "text/plain": [
       "<matplotlib.figure.Figure at 0x11fbe18d0>"
      ]
     },
     "metadata": {},
     "output_type": "display_data"
    }
   ],
   "source": [
    "T = 2\n",
    "mu = 0.\n",
    "sigma = 0.01\n",
    "S0 = 20\n",
    "dt = 0.01\n",
    "N = round(T/dt)\n",
    "t = np.linspace(0, T, N)\n",
    "W = np.random.standard_normal(size = N) \n",
    "W = np.cumsum(W)*np.sqrt(dt) ### standard brownian motion ###\n",
    "X = (mu-0.5*sigma**2)*t + sigma*W \n",
    "S = S0*np.exp(X) ### geometric brownian motion ###\n",
    "plt.plot(t, S)\n",
    "plt.show()\n"
   ]
  },
  {
   "cell_type": "code",
   "execution_count": 75,
   "metadata": {
    "collapsed": true
   },
   "outputs": [],
   "source": [
    "from ipywidgets import interact, interactive, fixed, interact_manual\n",
    "import ipywidgets as widgets"
   ]
  },
  {
   "cell_type": "code",
   "execution_count": 107,
   "metadata": {},
   "outputs": [],
   "source": [
    "from blackscholes import geometric_brownian_motion, blackScholes\n",
    "from scipy.stats import norm\n",
    "import pandas as pd"
   ]
  },
  {
   "cell_type": "code",
   "execution_count": 102,
   "metadata": {},
   "outputs": [
    {
     "data": {
      "text/plain": [
       "(array([ 0.        ,  0.01005025,  0.0201005 ,  0.03015075,  0.04020101,\n",
       "         0.05025126,  0.06030151,  0.07035176,  0.08040201,  0.09045226,\n",
       "         0.10050251,  0.11055276,  0.12060302,  0.13065327,  0.14070352,\n",
       "         0.15075377,  0.16080402,  0.17085427,  0.18090452,  0.19095477,\n",
       "         0.20100503,  0.21105528,  0.22110553,  0.23115578,  0.24120603,\n",
       "         0.25125628,  0.26130653,  0.27135678,  0.28140704,  0.29145729,\n",
       "         0.30150754,  0.31155779,  0.32160804,  0.33165829,  0.34170854,\n",
       "         0.35175879,  0.36180905,  0.3718593 ,  0.38190955,  0.3919598 ,\n",
       "         0.40201005,  0.4120603 ,  0.42211055,  0.4321608 ,  0.44221106,\n",
       "         0.45226131,  0.46231156,  0.47236181,  0.48241206,  0.49246231,\n",
       "         0.50251256,  0.51256281,  0.52261307,  0.53266332,  0.54271357,\n",
       "         0.55276382,  0.56281407,  0.57286432,  0.58291457,  0.59296482,\n",
       "         0.60301508,  0.61306533,  0.62311558,  0.63316583,  0.64321608,\n",
       "         0.65326633,  0.66331658,  0.67336683,  0.68341709,  0.69346734,\n",
       "         0.70351759,  0.71356784,  0.72361809,  0.73366834,  0.74371859,\n",
       "         0.75376884,  0.7638191 ,  0.77386935,  0.7839196 ,  0.79396985,\n",
       "         0.8040201 ,  0.81407035,  0.8241206 ,  0.83417085,  0.84422111,\n",
       "         0.85427136,  0.86432161,  0.87437186,  0.88442211,  0.89447236,\n",
       "         0.90452261,  0.91457286,  0.92462312,  0.93467337,  0.94472362,\n",
       "         0.95477387,  0.96482412,  0.97487437,  0.98492462,  0.99497487,\n",
       "         1.00502513,  1.01507538,  1.02512563,  1.03517588,  1.04522613,\n",
       "         1.05527638,  1.06532663,  1.07537688,  1.08542714,  1.09547739,\n",
       "         1.10552764,  1.11557789,  1.12562814,  1.13567839,  1.14572864,\n",
       "         1.15577889,  1.16582915,  1.1758794 ,  1.18592965,  1.1959799 ,\n",
       "         1.20603015,  1.2160804 ,  1.22613065,  1.2361809 ,  1.24623116,\n",
       "         1.25628141,  1.26633166,  1.27638191,  1.28643216,  1.29648241,\n",
       "         1.30653266,  1.31658291,  1.32663317,  1.33668342,  1.34673367,\n",
       "         1.35678392,  1.36683417,  1.37688442,  1.38693467,  1.39698492,\n",
       "         1.40703518,  1.41708543,  1.42713568,  1.43718593,  1.44723618,\n",
       "         1.45728643,  1.46733668,  1.47738693,  1.48743719,  1.49748744,\n",
       "         1.50753769,  1.51758794,  1.52763819,  1.53768844,  1.54773869,\n",
       "         1.55778894,  1.5678392 ,  1.57788945,  1.5879397 ,  1.59798995,\n",
       "         1.6080402 ,  1.61809045,  1.6281407 ,  1.63819095,  1.64824121,\n",
       "         1.65829146,  1.66834171,  1.67839196,  1.68844221,  1.69849246,\n",
       "         1.70854271,  1.71859296,  1.72864322,  1.73869347,  1.74874372,\n",
       "         1.75879397,  1.76884422,  1.77889447,  1.78894472,  1.79899497,\n",
       "         1.80904523,  1.81909548,  1.82914573,  1.83919598,  1.84924623,\n",
       "         1.85929648,  1.86934673,  1.87939698,  1.88944724,  1.89949749,\n",
       "         1.90954774,  1.91959799,  1.92964824,  1.93969849,  1.94974874,\n",
       "         1.95979899,  1.96984925,  1.9798995 ,  1.98994975,  2.        ]),\n",
       " array([ 0.99989965,  0.99926521,  0.99760518,  0.99697778,  0.99763212,\n",
       "         0.9974591 ,  0.99770785,  0.99787905,  0.99777901,  0.99899881,\n",
       "         1.00014309,  1.00014088,  1.00022313,  1.00099841,  1.000499  ,\n",
       "         0.99931161,  1.00069502,  1.00118429,  1.00115287,  1.00321501,\n",
       "         1.00293619,  1.00132873,  1.00205016,  1.00242926,  1.00275825,\n",
       "         1.00444665,  1.00362903,  1.00384972,  1.00233533,  1.0034195 ,\n",
       "         1.00404116,  1.00366122,  1.00602925,  1.00510041,  1.00589256,\n",
       "         1.00452743,  1.0050217 ,  1.00463805,  1.005649  ,  1.00580657,\n",
       "         1.00501507,  1.00464674,  1.00430364,  1.00480936,  1.00507781,\n",
       "         1.00556563,  1.00556692,  1.00525791,  1.00557408,  1.00643474,\n",
       "         1.00695623,  1.00671721,  1.00620938,  1.00692334,  1.00646067,\n",
       "         1.00650289,  1.00727324,  1.00694328,  1.00562385,  1.0044639 ,\n",
       "         1.00481655,  1.00451595,  1.00441974,  1.00496558,  1.00390437,\n",
       "         1.0045466 ,  1.00321004,  1.00357822,  1.00537627,  1.00664656,\n",
       "         1.00535449,  1.00504363,  1.0044454 ,  1.00255657,  1.00216212,\n",
       "         1.0002804 ,  1.00065692,  1.00007964,  0.99908523,  0.99874066,\n",
       "         1.0006815 ,  1.00009433,  0.99914454,  1.00166664,  1.00415394,\n",
       "         1.00345414,  1.00256884,  1.00064719,  1.00020751,  1.00052861,\n",
       "         0.99996687,  0.99947268,  0.99856472,  0.99995864,  1.00041483,\n",
       "         1.00005779,  1.0001535 ,  1.00043656,  1.00071616,  0.99998835,\n",
       "         1.00075259,  1.00068533,  1.00036593,  0.99972406,  0.99998803,\n",
       "         0.99915594,  0.99971166,  0.99917315,  0.99831806,  0.99982615,\n",
       "         0.9985362 ,  0.99722749,  0.99667187,  0.99574505,  0.99362294,\n",
       "         0.99246811,  0.9925908 ,  0.99224323,  0.99267225,  0.99202699,\n",
       "         0.99107681,  0.99068556,  0.99097158,  0.9890434 ,  0.98727647,\n",
       "         0.98818901,  0.98892898,  0.9884469 ,  0.98905187,  0.98961944,\n",
       "         0.99042119,  0.99119152,  0.99068654,  0.99044468,  0.98923637,\n",
       "         0.98821209,  0.98850541,  0.98815813,  0.98817574,  0.98809892,\n",
       "         0.98712153,  0.98909144,  0.99006943,  0.98993515,  0.99160587,\n",
       "         0.99258266,  0.992077  ,  0.99271584,  0.99065786,  0.98984308,\n",
       "         0.98871215,  0.98927651,  0.9886906 ,  0.98947047,  0.98923159,\n",
       "         0.98754175,  0.98746064,  0.98504251,  0.98473461,  0.98588223,\n",
       "         0.98563373,  0.98489664,  0.98541766,  0.98630035,  0.98706213,\n",
       "         0.98678597,  0.98563841,  0.98606535,  0.98660272,  0.98680282,\n",
       "         0.98537826,  0.9857682 ,  0.98555431,  0.98541619,  0.98527582,\n",
       "         0.98730808,  0.98741172,  0.98716501,  0.98734276,  0.98706641,\n",
       "         0.98655834,  0.98882173,  0.98912254,  0.98958069,  0.99031502,\n",
       "         0.99196811,  0.99105427,  0.99240196,  0.99253748,  0.99332327,\n",
       "         0.99368941,  0.99325816,  0.9925226 ,  0.99340757,  0.99314752,\n",
       "         0.99418952,  0.99351345,  0.99341666,  0.99151297,  0.99155347]))"
      ]
     },
     "execution_count": 102,
     "metadata": {},
     "output_type": "execute_result"
    }
   ],
   "source": [
    "geometric_brownian_motion(mu=0., sigma=0.01, s0=1, dt=0.01)"
   ]
  },
  {
   "cell_type": "code",
   "execution_count": 61,
   "metadata": {},
   "outputs": [],
   "source": [
    "t = 2.\n",
    "dt = 0.01\n",
    "N = int(round(t / dt))\n",
    "np.linspace(0, t, N)\n",
    "tt = np.linspace(0, t, N)\n",
    "W = norm((N))"
   ]
  },
  {
   "cell_type": "code",
   "execution_count": 105,
   "metadata": {},
   "outputs": [
    {
     "data": {
      "application/vnd.jupyter.widget-view+json": {
       "model_id": "209b3a82b0a149b2af82cd7a45ad4222"
      }
     },
     "metadata": {},
     "output_type": "display_data"
    }
   ],
   "source": [
    "@interact(mu=(-0.02, 0.05, 0.01), sigma=(0.01, 0.1, 0.005), S0=(1,100,10), dt=(0.001, 0.1, 0.001))\n",
    "def plot_gbm(mu, sigma, S0, dt):\n",
    "    s, t = geometric_brownian_motion(mu=mu, sigma=sigma, t=2, dt=dt, s0=S0)\n",
    "    pd.Series(t, s).plot()\n",
    "    plt.show()"
   ]
  },
  {
   "cell_type": "code",
   "execution_count": 198,
   "metadata": {},
   "outputs": [
    {
     "data": {
      "text/plain": [
       "1.000000e+00    0.691462\n",
       "9.900000e-01    0.690580\n",
       "9.800000e-01    0.689691\n",
       "9.700000e-01    0.688797\n",
       "9.600000e-01    0.687897\n",
       "9.500000e-01    0.686991\n",
       "9.400000e-01    0.686080\n",
       "9.300000e-01    0.685162\n",
       "9.200000e-01    0.684238\n",
       "9.100000e-01    0.683308\n",
       "9.000000e-01    0.682372\n",
       "8.900000e-01    0.681429\n",
       "8.800000e-01    0.680480\n",
       "8.700000e-01    0.679524\n",
       "8.600000e-01    0.678562\n",
       "8.500000e-01    0.677593\n",
       "8.400000e-01    0.676616\n",
       "8.300000e-01    0.675633\n",
       "8.200000e-01    0.674643\n",
       "8.100000e-01    0.673645\n",
       "8.000000e-01    0.672640\n",
       "7.900000e-01    0.671627\n",
       "7.800000e-01    0.670606\n",
       "7.700000e-01    0.669578\n",
       "7.600000e-01    0.668542\n",
       "7.500000e-01    0.667497\n",
       "7.400000e-01    0.666444\n",
       "7.300000e-01    0.665383\n",
       "7.200000e-01    0.664313\n",
       "7.100000e-01    0.663235\n",
       "                  ...   \n",
       "2.900000e-01    0.606135\n",
       "2.800000e-01    0.604332\n",
       "2.700000e-01    0.602494\n",
       "2.600000e-01    0.600620\n",
       "2.500000e-01    0.598706\n",
       "2.400000e-01    0.596752\n",
       "2.300000e-01    0.594754\n",
       "2.200000e-01    0.592710\n",
       "2.100000e-01    0.590616\n",
       "2.000000e-01    0.588468\n",
       "1.900000e-01    0.586264\n",
       "1.800000e-01    0.583998\n",
       "1.700000e-01    0.581665\n",
       "1.600000e-01    0.579260\n",
       "1.500000e-01    0.576775\n",
       "1.400000e-01    0.574202\n",
       "1.300000e-01    0.571533\n",
       "1.200000e-01    0.568755\n",
       "1.100000e-01    0.565855\n",
       "1.000000e-01    0.562816\n",
       "9.000000e-02    0.559618\n",
       "8.000000e-02    0.556231\n",
       "7.000000e-02    0.552622\n",
       "6.000000e-02    0.548738\n",
       "5.000000e-02    0.544510\n",
       "4.000000e-02    0.539828\n",
       "3.000000e-02    0.534506\n",
       "2.000000e-02    0.528186\n",
       "1.000000e-02    0.519939\n",
       "1.000000e-07    0.500063\n",
       "Name: delta, dtype: float64"
      ]
     },
     "execution_count": 198,
     "metadata": {},
     "output_type": "execute_result"
    }
   ],
   "source": [
    "df.delta"
   ]
  },
  {
   "cell_type": "code",
   "execution_count": 192,
   "metadata": {},
   "outputs": [
    {
     "data": {
      "text/plain": [
       "<matplotlib.axes._subplots.AxesSubplot at 0x1201b1240>"
      ]
     },
     "execution_count": 192,
     "metadata": {},
     "output_type": "execute_result"
    },
    {
     "data": {
      "image/png": "[encoded data removed]",
      "text/plain": [
       "<matplotlib.figure.Figure at 0x11fe53588>"
      ]
     },
     "metadata": {},
     "output_type": "display_data"
    }
   ],
   "source": [
    "df.ix[0.1:,:].gamma.plot()"
   ]
  },
  {
   "cell_type": "code",
   "execution_count": 195,
   "metadata": {},
   "outputs": [],
   "source": [
    "tau = np.clip( np.linspace(1.0, .0, 101), 0.0000001, 100)\n",
    "S = 1.\n",
    "K = 1.\n",
    "sigma = 1\n",
    "df = pd.DataFrame.from_dict(blackScholes(tau, S, K, sigma))\n",
    "df.index = tau"
   ]
  },
  {
   "cell_type": "code",
   "execution_count": null,
   "metadata": {
    "collapsed": true
   },
   "outputs": [],
   "source": [
    "@interact(mu=(-0.02, 0.05, 0.01), sigma=(0.01, 0.1, 0.005), S0=(1,100,10), dt=(0.001, 0.1, 0.001))\n",
    "def plot_gbm(mu, sigma, S0, dt):\n",
    "    s, t = geometric_brownian_motion(mu=mu, sigma=sigma, t=2, dt=dt, s0=S0)\n",
    "    pd.Series(t, s).plot()\n",
    "    plt.show()"
   ]
  },
  {
   "cell_type": "markdown",
   "metadata": {
    "slideshow": {
     "slide_type": "slide"
    }
   },
   "source": [
    "## Q-learning"
   ]
  },
  {
   "cell_type": "markdown",
   "metadata": {},
   "source": [
    "- Initialize $V(s)$ arbitrarily\n",
    "- Repeat for each episode\n",
    "- Initialize s\n",
    "- Repeat (for each step of episode)\n",
    "- -    $\\alpha \\leftarrow$ action given by $\\pi$ for $s$\n",
    "- - Take action a, observe reward r, and next state s'\n",
    "- - $V(s) \\leftarrow V(s) + \\alpha [r = \\gamma V(s') - V(s)]$ \n",
    "- - $s \\leftarrow s'$\n",
    "- until $s$ is terminal"
   ]
  },
  {
   "cell_type": "code",
   "execution_count": 6,
   "metadata": {
    "collapsed": true
   },
   "outputs": [],
   "source": [
    "import td"
   ]
  },
  {
   "cell_type": "code",
   "execution_count": 10,
   "metadata": {
    "collapsed": true
   },
   "outputs": [],
   "source": [
    "import scipy as sp"
   ]
  },
  {
   "cell_type": "code",
   "execution_count": null,
   "metadata": {
    "collapsed": true
   },
   "outputs": [],
   "source": []
  },
  {
   "cell_type": "code",
   "execution_count": 11,
   "metadata": {
    "collapsed": true
   },
   "outputs": [],
   "source": [
    "α = 0.05\n",
    "γ = 0.1\n",
    "td_learning = td.TD(α, γ)"
   ]
  },
  {
   "cell_type": "markdown",
   "metadata": {
    "slideshow": {
     "slide_type": "slide"
    }
   },
   "source": [
    "## Black Scholes"
   ]
  },
  {
   "cell_type": "markdown",
   "metadata": {},
   "source": [
    "$${\\displaystyle d_{1}={\\frac {1}{\\sigma {\\sqrt {T-t}}}}\\left[\\ln \\left({\\frac {S_{t}}{K}}\\right)+(r-q+{\\frac {1}{2}}\\sigma ^{2})(T-t)\\right]}$$"
   ]
  },
  {
   "cell_type": "markdown",
   "metadata": {},
   "source": [
    "$${\\displaystyle C(S_{t},t)=e^{-r(T-t)}[FN(d_{1})-KN(d_{2})]\\,}$$"
   ]
  },
  {
   "cell_type": "markdown",
   "metadata": {},
   "source": [
    "$${\\displaystyle d_{2}=d_{1}-\\sigma {\\sqrt {T-t}}={\\frac {1}{\\sigma {\\sqrt {T-t}}}}\\left[\\ln \\left({\\frac {S_{t}}{K}}\\right)+(r-q-{\\frac {1}{2}}\\sigma ^{2})(T-t)\\right]}$$"
   ]
  },
  {
   "cell_type": "code",
   "execution_count": 12,
   "metadata": {
    "collapsed": true
   },
   "outputs": [],
   "source": [
    "d_1 = lambda σ, T, t, S, K: 1. / σ / np.sqrt(T - t) * (np.log(S / K) + 0.5 * (σ ** 2) * (T-t))\n",
    "d_2 = lambda σ, T, t, S, K: 1. / σ / np.sqrt(T - t) * (np.log(S / K) - 0.5 * (σ ** 2) * (T-t))\n",
    "\n",
    "call = lambda σ, T, t, S, K: S * sp.stats.norm.cdf( d_1(σ, T, t, S, K) ) - K * sp.stats.norm.cdf( d_2(σ, T, t, S, K) )"
   ]
  },
  {
   "cell_type": "code",
   "execution_count": 13,
   "metadata": {},
   "outputs": [
    {
     "data": {
      "text/plain": [
       "[<matplotlib.lines.Line2D at 0x11be7dda0>]"
      ]
     },
     "execution_count": 13,
     "metadata": {},
     "output_type": "execute_result"
    },
    {
     "data": {
      "image/png": "[encoded data removed]",
      "text/plain": [
       "<matplotlib.figure.Figure at 0x11be240f0>"
      ]
     },
     "metadata": {},
     "output_type": "display_data"
    }
   ],
   "source": [
    "plt.plot(np.linspace(0.1, 4., 100), call(1., 1., .9, np.linspace(0.1, 4., 100), 1.))"
   ]
  },
  {
   "cell_type": "code",
   "execution_count": 14,
   "metadata": {},
   "outputs": [
    {
     "data": {
      "text/plain": [
       "1.1418538861723948"
      ]
     },
     "execution_count": 14,
     "metadata": {},
     "output_type": "execute_result"
    }
   ],
   "source": [
    "d_1(1., 1., 0., 1.9, 1)"
   ]
  },
  {
   "cell_type": "code",
   "execution_count": 15,
   "metadata": {},
   "outputs": [
    {
     "data": {
      "text/plain": [
       "[<matplotlib.lines.Line2D at 0x11bece240>]"
      ]
     },
     "execution_count": 15,
     "metadata": {},
     "output_type": "execute_result"
    },
    {
     "data": {
      "image/png": "[encoded data removed]",
      "text/plain": [
       "<matplotlib.figure.Figure at 0x11be43e48>"
      ]
     },
     "metadata": {},
     "output_type": "display_data"
    }
   ],
   "source": [
    "plt.plot(d_1(1., 1., 0., np.linspace(0.1, 2.9, 10), 1))"
   ]
  },
  {
   "cell_type": "code",
   "execution_count": 16,
   "metadata": {},
   "outputs": [
    {
     "data": {
      "text/plain": [
       "[<matplotlib.lines.Line2D at 0x11bfd7630>]"
      ]
     },
     "execution_count": 16,
     "metadata": {},
     "output_type": "execute_result"
    },
    {
     "data": {
      "image/png": "[encoded data removed]",
      "text/plain": [
       "<matplotlib.figure.Figure at 0x11bf4e7f0>"
      ]
     },
     "metadata": {},
     "output_type": "display_data"
    }
   ],
   "source": [
    "plt.plot(np.linspace(0.01, 1.9, 100), sp.stats.norm.cdf(d_1(1., 1., 0.2, np.linspace(0.01, 1.9, 100), 1)))\n",
    "plt.plot(np.linspace(0.01, 1.9, 100), sp.stats.norm.cdf(d_1(1., 1., 0.6, np.linspace(0.01, 1.9, 100), 1)))\n",
    "plt.plot(np.linspace(0.01, 1.9, 100), sp.stats.norm.cdf(d_1(1., 1., 0.9, np.linspace(0.01, 1.9, 100), 1)))\n",
    "plt.plot(np.linspace(0.01, 1.9, 100), sp.stats.norm.cdf(d_1(1., 1., 0.99, np.linspace(0.01, 1.9, 100), 1)))"
   ]
  },
  {
   "cell_type": "code",
   "execution_count": 17,
   "metadata": {
    "collapsed": true
   },
   "outputs": [],
   "source": [
    "def iterate_series(n=1000, S0 = 1):\n",
    "    while True:\n",
    "        r = np.random.randn((n))\n",
    "        S = np.cumsum(r) + S0\n",
    "        yield S, r"
   ]
  },
  {
   "cell_type": "code",
   "execution_count": 18,
   "metadata": {
    "collapsed": true
   },
   "outputs": [],
   "source": [
    "def iterate_world(n=1000, S0=1, N=5):\n",
    "    for (s, r) in take(N, iterate_series(n=n, S0=S0)):\n",
    "        t, t_0 = 0, 0\n",
    "        for t in np.linspace(0, len(s)-1, 100):\n",
    "            r = s[int(t)] / s[int(t_0)]\n",
    "            yield r, s[int(t)]\n",
    "            t_0 = t"
   ]
  },
  {
   "cell_type": "code",
   "execution_count": 19,
   "metadata": {
    "collapsed": true
   },
   "outputs": [],
   "source": [
    "from cytoolz import take"
   ]
  },
  {
   "cell_type": "code",
   "execution_count": 20,
   "metadata": {},
   "outputs": [
    {
     "data": {
      "text/plain": [
       "[(1.0, 2.0838851133238272),\n",
       " (-1.03432278354435, -2.1554098509997344),\n",
       " (0.21226231029493625, -0.4575122746056679),\n",
       " (-3.482974894585845, 1.5935037664164062),\n",
       " (1.1210638646175257, 1.7864194906613593),\n",
       " (-3.6120908761767421, -6.4527095432421984),\n",
       " (1.3805328401475976, -8.9081774323796594),\n",
       " (1.1108961519278395, -9.8960600303209851),\n",
       " (1.3108479156424875, -12.972229663819196),\n",
       " (0.59865508747366436, -7.7658912841221444),\n",
       " (0.71507542250328193, -5.5531979911081972),\n",
       " (0.82539374537091204, -4.5835748886670196),\n",
       " (1.1430460313912796, -5.2392370860755628),\n",
       " (0.1164745364949339, -0.6102377111877193),\n",
       " (-1.025498538198474, 0.62579788077658871),\n",
       " (2.8672831519030222, 1.794339720047329),\n",
       " (-0.34383682902674489, -0.61696007953781073),\n",
       " (-3.4932516438894652, 2.1551968120596325),\n",
       " (1.0284364062182998, 2.216482864087745),\n",
       " (1.5081235333447043, 3.3427299685860001),\n",
       " (0.66277267151279495, 2.2154700714256244),\n",
       " (-0.21429776874276155, -0.47477029302287788),\n",
       " (-0.062568823877629381, 0.029705818846478937),\n",
       " (156.4601595321603, 4.6477771557535483),\n",
       " (1.5427296717128078, 7.1702637256899591),\n",
       " (0.71455608336925203, 5.1235555645536381),\n",
       " (0.67896963296457835, 3.478738641138607),\n",
       " (1.6187014499168357, 5.6310392822927859),\n",
       " (1.4549161637730395, 8.1926900706487089),\n",
       " (0.64223503997406095, 5.2616326350181657),\n",
       " (1.4985307829370278, 7.884718472080789),\n",
       " (0.97723084564286122, 7.7051901001273979),\n",
       " (0.47914311804698717, 3.6918888097198188),\n",
       " (0.4896524782694176, 1.8077425051744396),\n",
       " (0.82842113671267525, 1.4975721010204284),\n",
       " (-2.3264362327823149, -3.4840059970178618),\n",
       " (0.85305052507208301, -2.9720331451103732),\n",
       " (2.0001444262093182, -5.9444955297018627),\n",
       " (1.4025518774919825, -8.3374633659260446),\n",
       " (1.1598767101893583, -9.670429580194595),\n",
       " (0.92030964846865715, -8.8997896474897917),\n",
       " (0.82582776458342155, -7.3496933898491719),\n",
       " (1.0782773835821109, -7.9250081585373007),\n",
       " (0.31364575573516923, -2.4856451730918137),\n",
       " (0.88948553426347354, -2.210945424776996),\n",
       " (2.698644823225683, -5.9665564250089487),\n",
       " (1.4604203912981786, -8.7136806689142308),\n",
       " (1.0229153330664975, -8.9133575636775007),\n",
       " (1.0175463344857183, -9.0697543168805925),\n",
       " (1.6918286867880201, -15.344470535418068),\n",
       " (1.2711984761299224, -19.505867561643942),\n",
       " (1.0905899177001241, -21.272902498722789),\n",
       " (1.0761108820014951, -22.892001870632392),\n",
       " (0.78598976862654857, -17.99287925369687),\n",
       " (1.3331713675726273, -23.987591441220211),\n",
       " (0.91678607377642996, -21.991489776749372),\n",
       " (1.1183967011787486, -24.595209620322674),\n",
       " (1.1507479400899392, -28.302886806666571),\n",
       " (1.2161822694760882, -34.421469109256584),\n",
       " (0.95220232165074281, -32.776202800463444),\n",
       " (1.0607585666123849, -34.767637901616439),\n",
       " (1.243251445483101, -43.224916077217685),\n",
       " (1.052636050497703, -45.500104942617092),\n",
       " (0.88452074297084149, -40.24578662909493),\n",
       " (0.90243919918634363, -36.319375456184886),\n",
       " (0.9668447942224887, -35.115199089224383),\n",
       " (1.0780561496090646, -37.856156322884971),\n",
       " (0.89589050867917641, -33.914971144747838),\n",
       " (1.0009013276761114, -33.945539646875119),\n",
       " (0.92958282514266566, -31.555190645934537),\n",
       " (1.1208357967900888, -35.368187250499197),\n",
       " (0.88784490698644447, -31.401464919698611),\n",
       " (1.2059591895778077, -37.868885186115698),\n",
       " (1.0288644794292114, -38.961950843577505),\n",
       " (0.99711739887163853, -38.849639080112645),\n",
       " (1.0079359914177026, -39.15794948243326),\n",
       " (1.0426810988812283, -40.82925379627914),\n",
       " (1.1025014895251539, -45.014313126598296),\n",
       " (0.957646451172667, -43.107797217662061),\n",
       " (0.87540984252213105, -37.736989973789505),\n",
       " (1.0216746392830123, -38.554925619098043),\n",
       " (1.0242083067270953, -39.488275084325515),\n",
       " (1.0183770353392712, -40.213952511037029),\n",
       " (0.91178320410819136, -36.666406470367988),\n",
       " (1.1362356324864191, -41.661677546862705),\n",
       " (1.1110326240175192, -46.287482925862633),\n",
       " (1.077569784481716, -49.877993000622908),\n",
       " (0.96131828049349521, -47.948626465825406),\n",
       " (1.0787974214220304, -51.726854592060569),\n",
       " (1.0570538334300721, -54.678069937817554),\n",
       " (1.0004656126793909, -54.703528740465224),\n",
       " (1.013409672371927, -55.437085138463161),\n",
       " (0.97828449701215159, -54.233240950501255),\n",
       " (1.0662281052286766, -57.825005739063222),\n",
       " (1.011542126835965, -58.492429289593893),\n",
       " (1.0035113319720428, -58.697815626680892),\n",
       " (0.98204822184237528, -57.64408546221356),\n",
       " (1.0341355407996911, -59.611797493369835),\n",
       " (0.99561184794050439, -59.350211861429067),\n",
       " (0.89072702199676368, -52.86483746620771),\n",
       " (1.0, 1.6026452638845896),\n",
       " (-0.47031439353273297, -0.75374713533198756),\n",
       " (6.3844214083192643, -4.8122393472728593),\n",
       " (1.4077235108908392, -6.7743024691899896),\n",
       " (1.2338599328768629, -8.358540389922327),\n",
       " (1.4760908162336264, -12.337964706682181),\n",
       " (1.0262997901655506, -12.66245058953789),\n",
       " (0.62393936253041049, -7.9006013489090918),\n",
       " (1.1963459340728699, -9.4518523004980235),\n",
       " (1.5145436219975335, -14.315242617781996),\n",
       " (1.1786179028142849, -16.872201232447889),\n",
       " (1.1048160955807296, -18.64067948948545),\n",
       " (1.1078098833088499, -20.650328970044548),\n",
       " (1.1868049272231374, -24.507912170427563),\n",
       " (0.97018985298707261, -23.777327705647206),\n",
       " (1.1922662877428007, -28.348906236056042),\n",
       " (0.81103982374780703, -22.992091917134001),\n",
       " (0.92964317271744401, -21.374441277255553),\n",
       " (1.0573724035890693, -22.600744348705121),\n",
       " (1.0541772945512349, -23.825191532362073),\n",
       " (0.82616365293738725, -19.683507268309157),\n",
       " (1.3707098663365516, -26.980377616778586),\n",
       " (0.75843300964462723, -20.462808997241918),\n",
       " (1.1489120976811209, -23.509968809469328),\n",
       " (0.88379006299156815, -20.7778768150507),\n",
       " (1.1075830263069235, -23.013223683046316),\n",
       " (0.80178721400177699, -18.451708502029419),\n",
       " (0.80391960677300867, -14.833690243241671),\n",
       " (1.0900128672976033, -16.168913234640335),\n",
       " (1.1267625375904609, -18.218525706343332),\n",
       " (1.1468310733809208, -20.893571391223624),\n",
       " (1.1996754891802495, -25.065505479488667),\n",
       " (0.79539806613875952, -19.937054585175765),\n",
       " (0.93344634742823862, -18.610170781009735),\n",
       " (0.85745201355845824, -15.957328408843583),\n",
       " (0.93455677911015211, -14.913029440971789),\n",
       " (0.85602617869338404, -12.765943605097014),\n",
       " (1.0403640669746255, -13.281229007767442),\n",
       " (0.85703147295818904, -11.382431259221958),\n",
       " (0.95551229123840542, -10.876052972362821),\n",
       " (0.69577733543268239, -7.5673111571353093),\n",
       " (1.0674331114289963, -8.0775984936123013),\n",
       " (0.93821508217694072, -7.5785247344767974),\n",
       " (0.95751885201682363, -7.2565803037373264),\n",
       " (0.50744425143701111, -3.682309960222546),\n",
       " (1.2948340545111727, -4.767980335761834),\n",
       " (0.65148677179172343, -3.1062761169118946),\n",
       " (0.48476774211406043, -1.5058224595782104),\n",
       " (-0.8672704643811473, 1.3059553437939559),\n",
       " (7.5342389643727001, 9.8393796369431676),\n",
       " (0.40128211715549778, 3.9483670922092475),\n",
       " (2.0215992363584516, 7.9820158984730547),\n",
       " (0.92647797908626772, 7.3951619586517756),\n",
       " (1.1687304553605833, 8.6429510034003521),\n",
       " (0.67551275527517907, 5.8384236460153458),\n",
       " (1.4164307328671004, 8.2697226837141251),\n",
       " (0.70233004631555562, 5.8080747154697425),\n",
       " (1.7791640002364404, 10.333517444447272),\n",
       " (1.0899734075563268, 11.263259220966939),\n",
       " (0.87437709703567801, 9.8483359007894045),\n",
       " (1.0718777945544993, 10.556212565370044),\n",
       " (1.1555445800024087, 12.198174215266677),\n",
       " (1.3458973980382947, 16.417490937145239),\n",
       " (1.1692553993624528, 19.196239922241205),\n",
       " (1.2628359996602168, 24.241702831920833),\n",
       " (0.91554984503445458, 22.194487271136417),\n",
       " (0.96133601058891216, 21.336359850300674),\n",
       " (0.83831622556873697, 17.886616657080403),\n",
       " (1.176243956217655, 21.039024740072861),\n",
       " (0.96163813769911599, 20.231928570049295),\n",
       " (1.2234128052386775, 24.75200048727255),\n",
       " (0.79252952321075265, 19.616691144690432),\n",
       " (1.2293676220945386, 24.116124945911068),\n",
       " (0.79744704486312334, 19.231332571666631),\n",
       " (0.84282129852193866, 16.208576690359322),\n",
       " (1.2982467755736964, 21.042732424897967),\n",
       " (0.91945707446249647, 19.347889194093799),\n",
       " (0.92484962434638596, 17.89388805305315),\n",
       " (0.83543286138087225, 14.949142097391197),\n",
       " (0.90113151159251181, 13.471143015233382),\n",
       " (1.1096990387608929, 14.948914455015002),\n",
       " (0.86605195659029943, 12.946536612666753),\n",
       " (1.1248633067203386, 14.563083984700256),\n",
       " (0.59131412243998482, 8.6113572264328297),\n",
       " (0.73945717387552456, 6.3677298778905955),\n",
       " (0.58297623038780277, 3.7122351603404429),\n",
       " (1.0724797674384712, 3.9812971014388339),\n",
       " (0.77251569303653977, 3.0756144895023878),\n",
       " (2.8230872979377275, 8.6827281986674194),\n",
       " (0.60663460730136654, 5.2672434111031112),\n",
       " (1.1897738383485026, 6.266828410744008),\n",
       " (0.47552510652312413, 2.9800342475811852),\n",
       " (-0.20400605813255746, -0.60794503994905935),\n",
       " (8.8395971683732846, -5.3739892536602882),\n",
       " (1.9255833893533174, -10.348064441411482),\n",
       " (0.72487635671679962, -7.5010672513610199),\n",
       " (0.52604728954959901, -3.9459160963077249),\n",
       " (0.35488017736030858, -1.4003274041065819),\n",
       " (-1.862782400019269, 2.6085052426344113),\n",
       " (1.2516413363195578, 3.2649129876875067),\n",
       " (1.0, 0.43117224672567178),\n",
       " (-2.9442518263053397, -1.2694796748742356),\n",
       " (3.5094116153827253, -4.4551267164959283),\n",
       " (1.2221226678434907, -5.4447113483448142),\n",
       " (1.4071852397566593, -7.6617174441264009),\n",
       " (0.63467261316568746, -4.8626822316008349),\n",
       " (0.34187354182544527, -1.6624223972890375),\n",
       " (-1.1189084822602327, 1.8600985214260946),\n",
       " (2.9108533813786934, 5.4144740707906553),\n",
       " (0.56379689282776002, 3.0526636574082446),\n",
       " (2.5674534687772876, 7.8375718962231593),\n",
       " (1.7364519125406888, 13.609566708871858),\n",
       " (0.90820727799388223, 12.360307535340668),\n",
       " (0.69527648182444979, 8.5938311374398957),\n",
       " (1.022416896048846, 8.7864781567092223),\n",
       " (0.46249153229706491, 4.0636717461911385),\n",
       " (2.5479842372908794, 10.354171554819324),\n",
       " (0.72542334716240886, 7.5111577863908368),\n",
       " (0.92708638228030416, 6.963492098921618),\n",
       " (0.60797871040998186, 4.2336549462524635),\n",
       " (1.0630149263620305, 4.5004384009328087),\n",
       " (0.075061208952036093, 0.33780834718818475),\n",
       " (7.5960679591998987, 2.5660151624264453),\n",
       " (1.8555681036251164, 4.7614158888169342),\n",
       " (0.68747560821777787, 3.2733572841422132),\n",
       " (-1.1085011326095171, -3.6285202569072563),\n",
       " (1.1812659694134167, -4.28624749881177),\n",
       " (1.5544699581571346, -6.6628429701290548),\n",
       " (1.1709079823190152, -7.8015760186622458),\n",
       " (0.57854811080311264, -4.5135870668839111),\n",
       " (1.5859152257363067, -7.1581664520576727),\n",
       " (1.6838483719341617, -12.053266926331046),\n",
       " (0.74835711201825938, -9.0201480273743044),\n",
       " (0.77490572035771776, -6.9897643048857327),\n",
       " (0.71352086065017206, -4.9873426425639193),\n",
       " (2.0491935005744004, -10.220030128279539),\n",
       " (0.82994171443518827, -8.4820293262435982),\n",
       " (0.6198183866454271, -5.2573177324715061),\n",
       " (0.79695416385797813, -4.1898412576175508),\n",
       " (2.4059163214695549, -10.080407466068591),\n",
       " (0.42165351992644262, -4.2504392903606139),\n",
       " (0.39131508333976123, -1.6632610051380592),\n",
       " (-0.60779270644100192, 1.0109179078306423),\n",
       " (1.1072415629729635, 1.1193303243037587),\n",
       " (-0.27855916559697119, -0.31179972116544219),\n",
       " (-5.6647681425832257, 1.7662731273243295),\n",
       " (4.5143047403463719, 7.9734951514266319),\n",
       " (1.0734229323867779, 8.5589325468161306),\n",
       " (1.138650888665713, 9.7456361504620812),\n",
       " (1.072231353661004, 10.449576641897574),\n",
       " (0.69966262059572559, 7.3111781773859388),\n",
       " (1.303459417308289, 9.5298240469325535),\n",
       " (0.77079534886842849, 7.3455440509101164),\n",
       " (1.1510304385099093, 8.4549447900129273),\n",
       " (1.2544054133995299, 10.605928514586369),\n",
       " (0.95220498724811942, 10.099018025986179),\n",
       " (0.98829763716975161, 9.9808356528168698),\n",
       " (1.304960911199935, 13.024600388036699),\n",
       " (1.2002744426975125, 15.633094972108555),\n",
       " (1.2529387732613477, 19.587310836631836),\n",
       " (0.77436450035383508, 15.167718169283672),\n",
       " (1.1836261167771573, 17.952907357079567),\n",
       " (0.9705542402734012, 17.424270360649114),\n",
       " (1.2132809731431222, 21.140535699477219),\n",
       " (0.96477952467376449, 20.395955983490381),\n",
       " (0.93660041087935519, 19.102860754414333),\n",
       " (0.9247563756757492, 17.665492276290706),\n",
       " (1.1060206851284327, 19.538399870554084),\n",
       " (0.62946970070885266, 12.298830718847565),\n",
       " (0.73347013554231233, 9.0208250343650782),\n",
       " (1.5694096719535964, 14.157370057933687),\n",
       " (0.92852860274610849, 13.145523038452758),\n",
       " (0.90533743772172737, 11.901134145144756),\n",
       " (1.003713447420266, 11.945328381034283),\n",
       " (0.89771251671778507, 10.723470803958671),\n",
       " (0.60901117232600555, 6.5307135257225637),\n",
       " (0.84106533133304395, 5.4927567353530398),\n",
       " (1.3500471454365244, 7.4154805511406137),\n",
       " (0.82108181511678979, 6.0887162308937874),\n",
       " (0.28083711313318438, 1.7099374889713745),\n",
       " (1.6410126087164214, 2.8060289795189224),\n",
       " (3.0711397432758081, 8.617707119784221),\n",
       " (-0.13854139405805566, -1.1939091579589376),\n",
       " (-0.84119987691358844, 1.0043162367210643),\n",
       " (2.0573368086729262, 2.0662167613541174),\n",
       " (-2.4815028956660021, -5.1273228763738707),\n",
       " (1.5576394039954125, -7.9865201492470401),\n",
       " (0.13457979341592452, -1.0748242317977854),\n",
       " (3.7934622904095265, -4.077305192143287),\n",
       " (-0.28089415433053427, 1.1452911938945851),\n",
       " (1.1957780969014045, 1.3695141242332043),\n",
       " (0.58046456519018164, 0.79495442064483934),\n",
       " (1.279265557865074, 1.0169578104035271),\n",
       " (-5.5146073710207402, -5.6081230372684026),\n",
       " (1.0733041389886711, -6.0192216678578934),\n",
       " (1.2004596432559775, -7.2258326960753365),\n",
       " (0.5729665953678259, -4.140160758567804),\n",
       " (0.86217874305445463, -3.5695585988653669),\n",
       " (1.8916108928725577, -6.7522159283606324),\n",
       " (0.70836992046500546, -4.783066660135364),\n",
       " (1.0, 1.2684698087604402),\n",
       " (2.0546652100037615, 2.6062807860002009),\n",
       " (0.79376992194029905, 2.0687872960578808),\n",
       " (3.1648135917878673, 6.5473261530820519),\n",
       " (0.48649330688779907, 3.1852303514858598),\n",
       " (-0.64593795621872951, -2.0574611833246417),\n",
       " (1.4444683834178806, -2.9719376294219848),\n",
       " (-0.36918704726938595, 1.097200878075081),\n",
       " (5.0102250729564908, 5.4972233494016489),\n",
       " (0.78100992810968861, 4.2933860129190835),\n",
       " (1.6464625658654357, 7.0688993510815266),\n",
       " (1.77631554539048, 12.556595806126792),\n",
       " (0.73689384752623655, 9.2528781954085773),\n",
       " (1.0505316642129514, 9.7204415293823025),\n",
       " (0.54562163593867286, 5.3036832093077866),\n",
       " (1.1772111374470648, 6.2435549434881192),\n",
       " (1.0285676446224323, 6.4219186022943182),\n",
       " (-0.17285403453799689, -1.1100545398811867),\n",
       " (3.9638495359724715, -4.4000891728121774),\n",
       " (0.67624829943543119, -2.9755528204784882),\n",
       " (2.8742679175156876, -8.5525360087746343),\n",
       " (0.059318937744535311, -0.50732735106239901),\n",
       " (4.2892773337905918, -2.1760677077239703),\n",
       " (0.53689863394437054, -1.1683277796474574),\n",
       " (1.9569408262041958, -2.2863483303806089),\n",
       " (1.958823527475773, -4.4785529015544885),\n",
       " (0.8978545940987539, -4.0210892975750019),\n",
       " (0.74473646754206047, -2.9946518391471919),\n",
       " (1.8706080582516531, -5.6018198619668702),\n",
       " (1.5335648802544732, -8.5907542058243536),\n",
       " (1.2500920151472017, -10.739233236793265),\n",
       " (1.147957845411808, -12.328187047884073),\n",
       " (1.0555989373727184, -13.013621147478538),\n",
       " (0.87959886084583938, -11.446766336801447),\n",
       " (0.41395982779267909, -4.7385014215653634),\n",
       " (1.837091294790973, -8.70505971191238),\n",
       " (1.5580720240947949, -13.563110005205374),\n",
       " (0.76503471686647928, -10.376250022661205),\n",
       " (0.91154406834145896, -9.4584091597847504),\n",
       " (0.96838684107226924, -9.1593989678129706),\n",
       " (0.85838278993498152, -7.8622704401188876),\n",
       " (0.98101623129175208, -7.7130149165619759),\n",
       " (0.79214632019978937, -6.1098363838006549),\n",
       " (1.2144188051943783, -7.4199002011483319),\n",
       " (1.1886450490314673, -8.8196276384025527),\n",
       " (1.8407380088590024, -16.23462381799094),\n",
       " (1.2291977215113341, -19.955562606668099),\n",
       " (1.1464236838102932, -22.877529596043381),\n",
       " (1.043685357554734, -23.876942656415544),\n",
       " (0.9223851173496892, -22.023736554089652),\n",
       " (0.73319080168213568, -16.147601060129148),\n",
       " (0.76713031796685749, -12.387314335658838),\n",
       " (1.301053801744201, -16.116562409809372),\n",
       " (1.0002959676592862, -16.121332391061543),\n",
       " (0.83063771023444632, -13.390986623239771),\n",
       " (0.8475427607839815, -11.349433772282001),\n",
       " (1.0383045105020643, -11.784168277404859),\n",
       " (0.69128485838184772, -8.1462170987936808),\n",
       " (0.63458616733074813, -5.1694766869676885),\n",
       " (1.250301364169164, -6.4634037537563911),\n",
       " (1.0402832834323326, -6.7237708791065618),\n",
       " (1.5148263785581342, -10.185345491051635),\n",
       " (0.95510018096516047, -9.7280253216960979),\n",
       " (0.9981091937302714, -9.7096315104257567),\n",
       " (1.0853280031950487, -10.538134978970112),\n",
       " (0.5928319689702104, -6.2473433088566983),\n",
       " (1.5741351742592884, -9.8341628481447376),\n",
       " (1.1319243370623504, -11.131528262449429),\n",
       " (1.3730758456439032, -15.284432582271759),\n",
       " (0.85573160071657972, -13.079371959672057),\n",
       " (0.86429946129897794, -11.304494138873517),\n",
       " (0.77187874524720557, -8.7256987515680802),\n",
       " (1.0964681956795901, -9.5674511661755037),\n",
       " (1.0752252931430915, -10.287165484783268),\n",
       " (1.5082432142762539, -15.515547536561254),\n",
       " (1.0657226389630303, -16.535270265620404),\n",
       " (1.215177145967701, -20.093282529181192),\n",
       " (1.0475349596114982, -21.048415902668243),\n",
       " (0.94366947610527063, -19.862747607716788),\n",
       " (1.4068635968527636, -27.944176542771064),\n",
       " (1.0995493487728298, -30.726001119596912),\n",
       " (1.0604652268713786, -32.58385574814357),\n",
       " (0.94310913644480732, -30.730132056673853),\n",
       " (0.94545127611436319, -29.053842568145193),\n",
       " (0.91249912105900766, -26.511605806819269),\n",
       " (1.0108534344392266, -26.799347782322201),\n",
       " (1.0366544003321907, -27.781661804577048),\n",
       " (0.90841749709717268, -25.237347681714002),\n",
       " (0.75521366069242568, -19.059589728874734),\n",
       " (0.97265103315145984, -18.538329641232963),\n",
       " (1.2226419211965316, -22.665738968331677),\n",
       " (1.0511760662733667, -23.825682327909849),\n",
       " (1.0063165088560206, -23.976177461334824),\n",
       " (0.92587321826838576, -22.19890058790001),\n",
       " (1.1441165351040954, -25.398129223748423),\n",
       " (1.1000741407914956, -27.939825183526423),\n",
       " (0.87148631025328593, -24.34917515831328),\n",
       " (1.1211731209164961, -27.299640703988519),\n",
       " (0.85754409486617911, -23.410645677673735),\n",
       " (1.0049443212173903, -23.526395429810663),\n",
       " (1.0, 1.4159555299905258),\n",
       " (3.3898465051741833, 4.7998719048204421),\n",
       " (1.4746813656145363, 7.0782816553754557),\n",
       " (1.15920271433679, 8.2051633077515351),\n",
       " (0.62590345169416006, 5.1356400360359578),\n",
       " (1.6593085149522842, 8.5216112415243206),\n",
       " (0.97924629155087006, 8.3447562063008967),\n",
       " (0.85320286869665729, 7.1197699337901597),\n",
       " (0.89142530882769766, 6.3467431120110493),\n",
       " (1.2360677829447808, 7.8450046873835566),\n",
       " (0.48956466712799712, 3.8406371083965078),\n",
       " (1.7622006048399088, 6.767973035386925),\n",
       " (0.99935327527909279, 6.7635960199145071),\n",
       " (1.5507945893590842, 10.488948112294054),\n",
       " (0.95402951004191661, 10.006766028426982),\n",
       " (0.51180838979997123, 5.1215468081142674),\n",
       " (1.1548749003108372, 5.9147458594582512),\n",
       " (1.2470955545848548, 7.3762532678295614),\n",
       " (1.9869721540811367, 14.656409844627328),\n",
       " (0.84846585206354974, 12.435463267014324),\n",
       " (0.86400831570680769, 10.744343672366922),\n",
       " (0.61383898212496713, 6.5952969834465422),\n",
       " (0.47252215880679305, 3.1164239685900901),\n",
       " (0.17871877249824183, 0.55696346625052029),\n",
       " (3.8233368987489493, 2.1294589717707293),\n",
       " (-0.74357161927682625, -1.5834052558231266),\n",
       " (-2.1095971597747294, 3.3403472304568469),\n",
       " (2.262455502221981, 7.5573869708790484),\n",
       " (0.86979449254915331, 6.5733735653333252),\n",
       " (1.0705582948294445, 7.0371795953801906),\n",
       " (1.0048999766242785, 7.0716616108984027),\n",
       " (0.8598451335096009, 6.0805338219576566),\n",
       " (1.3285845486377299, 8.078503283322064),\n",
       " (0.3694821797832808, 2.9848630025082272),\n",
       " (0.42115771117580053, 1.2570980703096928),\n",
       " (3.2932988153302487, 4.139999585704853),\n",
       " (1.7612042552340867, 7.2913848870107438),\n",
       " (1.5487500955338953, 11.292533040332289),\n",
       " (0.93838193461683961, 10.596709001111595),\n",
       " (1.2012254135918261, 12.729036152572503),\n",
       " (0.76377309541291338, 9.7220953438731819),\n",
       " (0.48906491345836922, 4.7547357179853522),\n",
       " (1.1134722760663205, 5.2942664019989811),\n",
       " (1.19831536329788, 6.3442007669071687),\n",
       " (2.6475810393161434, 16.796785660078356),\n",
       " (0.91854600651975038, 15.428620390433183),\n",
       " (1.3570022617735227, 20.936672765862919),\n",
       " (0.75595960786010641, 15.827278933977102),\n",
       " (0.96425673103088483, 15.261560245990747),\n",
       " (0.93424292353964133, 14.258004661990764),\n",
       " (1.2975632983106817, 18.500663556541813),\n",
       " (1.0680292858272253, 19.759250485623127),\n",
       " (1.0518103737404694, 20.782984638114812),\n",
       " (0.91719918855806415, 19.062136645893617),\n",
       " (0.85158684053439371, 16.233064720111429),\n",
       " (0.78938296386766882, 12.81410474141725),\n",
       " (0.80160428217730473, 10.271841232988571),\n",
       " (0.49909089916807475, 5.1265824770839714),\n",
       " (1.3230383897544311, 6.7826654254244598),\n",
       " (1.158005332702559, 7.8543627325787959),\n",
       " (0.96867579519386682, 7.6083310657218375),\n",
       " (0.5513570701473397, 4.1949071251073793),\n",
       " (0.57996300562906411, 2.4328909446120521),\n",
       " (3.9453991732453026, 9.5987259214683736),\n",
       " (0.95765840360041432, 9.1923005425513189),\n",
       " (0.67294050981665898, 6.1858714134924355),\n",
       " (0.65008562449218632, 4.021346080868593),\n",
       " (1.6976147742307122, 6.8266965191772959),\n",
       " (0.69080118546558578, 4.7158900482614641),\n",
       " (0.39572386749557775, 1.8661902485819333),\n",
       " (0.405928523094848, 0.75753985142087144),\n",
       " (-2.8867358119858704, -2.1868174181030851),\n",
       " (-2.348311326965197, 5.1353281129362616),\n",
       " (1.6490073888716852, 8.4681940025123836),\n",
       " (0.92651450437499039, 7.8459045691890275),\n",
       " (0.51596547467001197, 4.0482158752572319),\n",
       " (1.0060209781367526, 4.0725900945350109),\n",
       " (0.68340737190613843, 2.7832380933571437),\n",
       " (1.5233545797305603, 4.2398584959961578),\n",
       " (0.52871032628496539, 2.241656968820211),\n",
       " (0.71619648112415946, 1.6054668329564847),\n",
       " (1.6018455148222255, 2.5717098455671881),\n",
       " (1.5419282017620206, 3.9653919376290983),\n",
       " (1.5750628603824739, 6.2457415678196879),\n",
       " (1.7346594722564286, 10.834234771884139),\n",
       " (1.1521327554304495, 12.482476760711259),\n",
       " (0.30826041175677277, 3.8478534260011998),\n",
       " (-0.11249318960007181, -0.43285730500443886),\n",
       " (3.7101149241345546, -1.6059503473176315),\n",
       " (1.3993987334559432, -2.2473648820294256),\n",
       " (1.2987128187223109, -2.9186815806379691),\n",
       " (0.082916293578318756, -0.24200625880180926),\n",
       " (-7.1746842701127456, 1.7363184982941751),\n",
       " (-0.46245140248300814, -0.80296292469333186),\n",
       " (1.7437332183600931, -1.4001531248993366),\n",
       " (-2.9647509683751689, 4.151105332918827),\n",
       " (1.0828825700631748, 4.4951596115140902),\n",
       " (0.7289670432682086, 3.2768232110240954),\n",
       " (0.26882457333111964, 0.88089060158506194),\n",
       " (-1.0295639096953484, -0.90693317178180388)]"
      ]
     },
     "execution_count": 20,
     "metadata": {},
     "output_type": "execute_result"
    }
   ],
   "source": [
    "[(a,b) for a,b in iterate_world()]"
   ]
  },
  {
   "cell_type": "code",
   "execution_count": 21,
   "metadata": {},
   "outputs": [
    {
     "ename": "TypeError",
     "evalue": "Required argument 'x' (pos 1) not found",
     "output_type": "error",
     "traceback": [
      "\u001b[0;31m---------------------------------------------------------------------------\u001b[0m",
      "\u001b[0;31mTypeError\u001b[0m                                 Traceback (most recent call last)",
      "\u001b[0;32m<ipython-input-21-ec4e022f4457>\u001b[0m in \u001b[0;36m<module>\u001b[0;34m()\u001b[0m\n\u001b[0;32m----> 1\u001b[0;31m \u001b[0mnp\u001b[0m\u001b[0;34m.\u001b[0m\u001b[0mdigitize\u001b[0m\u001b[0;34m(\u001b[0m\u001b[0;34m)\u001b[0m\u001b[0;34m\u001b[0m\u001b[0m\n\u001b[0m",
      "\u001b[0;31mTypeError\u001b[0m: Required argument 'x' (pos 1) not found"
     ]
    }
   ],
   "source": [
    "np.digitize()"
   ]
  },
  {
   "cell_type": "code",
   "execution_count": null,
   "metadata": {
    "collapsed": true
   },
   "outputs": [],
   "source": [
    "t"
   ]
  },
  {
   "cell_type": "code",
   "execution_count": null,
   "metadata": {
    "collapsed": true
   },
   "outputs": [],
   "source": [
    "state = (stock_val, besitz)"
   ]
  },
  {
   "cell_type": "code",
   "execution_count": null,
   "metadata": {
    "collapsed": true
   },
   "outputs": [],
   "source": [
    "state = rel_stock_price, tau"
   ]
  }
 ],
 "metadata": {
  "kernelspec": {
   "display_name": "Python [default]",
   "language": "python",
   "name": "python3"
  },
  "language_info": {
   "codemirror_mode": {
    "name": "ipython",
    "version": 3
   },
   "file_extension": ".py",
   "mimetype": "text/x-python",
   "name": "python",
   "nbconvert_exporter": "python",
   "pygments_lexer": "ipython3",
   "version": "3.5.3"
  }
 },
 "nbformat": 4,
 "nbformat_minor": 1
}
